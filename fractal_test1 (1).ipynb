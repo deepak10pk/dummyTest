{
  "nbformat": 4,
  "nbformat_minor": 0,
  "metadata": {
    "colab": {
      "name": "fractal_test1.ipynb",
      "provenance": [],
      "toc_visible": true
    },
    "kernelspec": {
      "display_name": "Python 3",
      "language": "python",
      "name": "python3"
    },
    "language_info": {
      "codemirror_mode": {
        "name": "ipython",
        "version": 3
      },
      "file_extension": ".py",
      "mimetype": "text/x-python",
      "name": "python",
      "nbconvert_exporter": "python",
      "pygments_lexer": "ipython3",
      "version": "3.7.3"
    }
  },
  "cells": [
    {
      "cell_type": "code",
      "metadata": {
        "id": "PTOkxowclGv8"
      },
      "source": [
        "import numpy as np\n",
        "import pandas as pd\n",
        "\n",
        "import matplotlib.pyplot as plt"
      ],
      "execution_count": 1,
      "outputs": []
    },
    {
      "cell_type": "code",
      "metadata": {
        "id": "tVSybtS-lovU",
        "colab": {
          "base_uri": "https://localhost:8080/"
        },
        "outputId": "382cd49a-a442-470c-f0b1-9345415db380"
      },
      "source": [
        "!wget https://www.dropbox.com/s/kl1exiwla8pmgge/wine_train.csv"
      ],
      "execution_count": 2,
      "outputs": [
        {
          "output_type": "stream",
          "text": [
            "--2021-02-08 10:43:11--  https://www.dropbox.com/s/kl1exiwla8pmgge/wine_train.csv\n",
            "Resolving www.dropbox.com (www.dropbox.com)... 162.125.1.18, 2620:100:6016:18::a27d:112\n",
            "Connecting to www.dropbox.com (www.dropbox.com)|162.125.1.18|:443... connected.\n",
            "HTTP request sent, awaiting response... 301 Moved Permanently\n",
            "Location: /s/raw/kl1exiwla8pmgge/wine_train.csv [following]\n",
            "--2021-02-08 10:43:11--  https://www.dropbox.com/s/raw/kl1exiwla8pmgge/wine_train.csv\n",
            "Reusing existing connection to www.dropbox.com:443.\n",
            "HTTP request sent, awaiting response... 302 Found\n",
            "Location: https://uca86b7c4e7e58a2a280e719258b.dl.dropboxusercontent.com/cd/0/inline/BIjmKyAL0BDNqPjG3-7mDbIiJGk1gAd4TJlWjQc5004nkwrgDtXUGz0Kk2dbe5jwl0XtNgImT50MahYb5HkXB9bt6CdzpZ91L3cl8i0U9YxDRMT1FwC3KEu16BJuHAqq1VI/file# [following]\n",
            "--2021-02-08 10:43:12--  https://uca86b7c4e7e58a2a280e719258b.dl.dropboxusercontent.com/cd/0/inline/BIjmKyAL0BDNqPjG3-7mDbIiJGk1gAd4TJlWjQc5004nkwrgDtXUGz0Kk2dbe5jwl0XtNgImT50MahYb5HkXB9bt6CdzpZ91L3cl8i0U9YxDRMT1FwC3KEu16BJuHAqq1VI/file\n",
            "Resolving uca86b7c4e7e58a2a280e719258b.dl.dropboxusercontent.com (uca86b7c4e7e58a2a280e719258b.dl.dropboxusercontent.com)... 162.125.1.15, 2620:100:6016:15::a27d:10f\n",
            "Connecting to uca86b7c4e7e58a2a280e719258b.dl.dropboxusercontent.com (uca86b7c4e7e58a2a280e719258b.dl.dropboxusercontent.com)|162.125.1.15|:443... connected.\n",
            "HTTP request sent, awaiting response... 200 OK\n",
            "Length: 198352 (194K) [text/plain]\n",
            "Saving to: ‘wine_train.csv’\n",
            "\n",
            "wine_train.csv      100%[===================>] 193.70K  --.-KB/s    in 0.07s   \n",
            "\n",
            "2021-02-08 10:43:13 (2.87 MB/s) - ‘wine_train.csv’ saved [198352/198352]\n",
            "\n"
          ],
          "name": "stdout"
        }
      ]
    },
    {
      "cell_type": "code",
      "metadata": {
        "id": "VWy1eJIilv2v"
      },
      "source": [
        "data=pd.read_csv('wine_train.csv')"
      ],
      "execution_count": 3,
      "outputs": []
    },
    {
      "cell_type": "code",
      "metadata": {
        "id": "wibIYtoul6kw",
        "colab": {
          "base_uri": "https://localhost:8080/"
        },
        "outputId": "20248f76-3a4f-4231-f152-378f05aa817c"
      },
      "source": [
        "data.shape"
      ],
      "execution_count": 4,
      "outputs": [
        {
          "output_type": "execute_result",
          "data": {
            "text/plain": [
              "(3673, 12)"
            ]
          },
          "metadata": {
            "tags": []
          },
          "execution_count": 4
        }
      ]
    },
    {
      "cell_type": "code",
      "metadata": {
        "id": "CbjeZ02Ol-on",
        "colab": {
          "base_uri": "https://localhost:8080/"
        },
        "outputId": "2b27bb3e-bc83-49d1-f628-b5ac5b3cf473"
      },
      "source": [
        "data.isnull().sum()"
      ],
      "execution_count": 5,
      "outputs": [
        {
          "output_type": "execute_result",
          "data": {
            "text/plain": [
              "fixed.acidity           0\n",
              "volatile.acidity        0\n",
              "citric.acid             0\n",
              "residual.sugar          0\n",
              "chlorides               0\n",
              "free.sulfur.dioxide     0\n",
              "total.sulfur.dioxide    0\n",
              "density                 0\n",
              "pH                      0\n",
              "sulphates               0\n",
              "alcohol                 0\n",
              "quality                 0\n",
              "dtype: int64"
            ]
          },
          "metadata": {
            "tags": []
          },
          "execution_count": 5
        }
      ]
    },
    {
      "cell_type": "code",
      "metadata": {
        "id": "fB9eFn6_mC_X",
        "colab": {
          "base_uri": "https://localhost:8080/"
        },
        "outputId": "3cd42124-2542-43b3-a2b0-4fb4e4be8cd3"
      },
      "source": [
        "data['quality'].value_counts()"
      ],
      "execution_count": 6,
      "outputs": [
        {
          "output_type": "execute_result",
          "data": {
            "text/plain": [
              "6    1647\n",
              "5    1071\n",
              "7     671\n",
              "8     143\n",
              "4     123\n",
              "3      14\n",
              "9       4\n",
              "Name: quality, dtype: int64"
            ]
          },
          "metadata": {
            "tags": []
          },
          "execution_count": 6
        }
      ]
    },
    {
      "cell_type": "code",
      "metadata": {
        "id": "RdzIbth8Smv5"
      },
      "source": [
        "n_wines = data.shape[0]\r\n",
        "\r\n",
        "# Number of wines with quality rating equal to  6\r\n",
        "normal = data.loc[(data['quality'] == 6)]\r\n",
        "\r\n",
        "# Number of wines with quality rating below 6\r\n",
        "bad = data.loc[(data['quality'] < 6)]\r\n",
        "# Number of wines with quality rating between 5 to 6\r\n",
        "good = data.loc[(data['quality'] > 6)]\r\n"
      ],
      "execution_count": 7,
      "outputs": []
    },
    {
      "cell_type": "code",
      "metadata": {
        "colab": {
          "base_uri": "https://localhost:8080/",
          "height": 224
        },
        "id": "f8DZ08LvTRl9",
        "outputId": "7241bee3-1da2-4445-d071-1267a2e4e06e"
      },
      "source": [
        "data.head()"
      ],
      "execution_count": 8,
      "outputs": [
        {
          "output_type": "execute_result",
          "data": {
            "text/html": [
              "<div>\n",
              "<style scoped>\n",
              "    .dataframe tbody tr th:only-of-type {\n",
              "        vertical-align: middle;\n",
              "    }\n",
              "\n",
              "    .dataframe tbody tr th {\n",
              "        vertical-align: top;\n",
              "    }\n",
              "\n",
              "    .dataframe thead th {\n",
              "        text-align: right;\n",
              "    }\n",
              "</style>\n",
              "<table border=\"1\" class=\"dataframe\">\n",
              "  <thead>\n",
              "    <tr style=\"text-align: right;\">\n",
              "      <th></th>\n",
              "      <th>fixed.acidity</th>\n",
              "      <th>volatile.acidity</th>\n",
              "      <th>citric.acid</th>\n",
              "      <th>residual.sugar</th>\n",
              "      <th>chlorides</th>\n",
              "      <th>free.sulfur.dioxide</th>\n",
              "      <th>total.sulfur.dioxide</th>\n",
              "      <th>density</th>\n",
              "      <th>pH</th>\n",
              "      <th>sulphates</th>\n",
              "      <th>alcohol</th>\n",
              "      <th>quality</th>\n",
              "    </tr>\n",
              "  </thead>\n",
              "  <tbody>\n",
              "    <tr>\n",
              "      <th>0</th>\n",
              "      <td>9.0</td>\n",
              "      <td>0.245</td>\n",
              "      <td>0.38</td>\n",
              "      <td>5.9</td>\n",
              "      <td>0.045</td>\n",
              "      <td>52.0</td>\n",
              "      <td>159.0</td>\n",
              "      <td>0.99500</td>\n",
              "      <td>2.93</td>\n",
              "      <td>0.35</td>\n",
              "      <td>10.2</td>\n",
              "      <td>6</td>\n",
              "    </tr>\n",
              "    <tr>\n",
              "      <th>1</th>\n",
              "      <td>8.2</td>\n",
              "      <td>0.420</td>\n",
              "      <td>0.29</td>\n",
              "      <td>4.1</td>\n",
              "      <td>0.030</td>\n",
              "      <td>31.0</td>\n",
              "      <td>100.0</td>\n",
              "      <td>0.99110</td>\n",
              "      <td>3.00</td>\n",
              "      <td>0.32</td>\n",
              "      <td>12.8</td>\n",
              "      <td>7</td>\n",
              "    </tr>\n",
              "    <tr>\n",
              "      <th>2</th>\n",
              "      <td>6.4</td>\n",
              "      <td>0.220</td>\n",
              "      <td>0.32</td>\n",
              "      <td>7.2</td>\n",
              "      <td>0.028</td>\n",
              "      <td>15.0</td>\n",
              "      <td>83.0</td>\n",
              "      <td>0.99300</td>\n",
              "      <td>3.13</td>\n",
              "      <td>0.55</td>\n",
              "      <td>10.9</td>\n",
              "      <td>8</td>\n",
              "    </tr>\n",
              "    <tr>\n",
              "      <th>3</th>\n",
              "      <td>5.0</td>\n",
              "      <td>0.350</td>\n",
              "      <td>0.25</td>\n",
              "      <td>7.8</td>\n",
              "      <td>0.031</td>\n",
              "      <td>24.0</td>\n",
              "      <td>116.0</td>\n",
              "      <td>0.99241</td>\n",
              "      <td>3.39</td>\n",
              "      <td>0.40</td>\n",
              "      <td>11.3</td>\n",
              "      <td>6</td>\n",
              "    </tr>\n",
              "    <tr>\n",
              "      <th>4</th>\n",
              "      <td>7.4</td>\n",
              "      <td>0.300</td>\n",
              "      <td>0.30</td>\n",
              "      <td>5.2</td>\n",
              "      <td>0.053</td>\n",
              "      <td>45.0</td>\n",
              "      <td>163.0</td>\n",
              "      <td>0.99410</td>\n",
              "      <td>3.12</td>\n",
              "      <td>0.45</td>\n",
              "      <td>10.3</td>\n",
              "      <td>6</td>\n",
              "    </tr>\n",
              "  </tbody>\n",
              "</table>\n",
              "</div>"
            ],
            "text/plain": [
              "   fixed.acidity  volatile.acidity  citric.acid  ...  sulphates  alcohol  quality\n",
              "0            9.0             0.245         0.38  ...       0.35     10.2        6\n",
              "1            8.2             0.420         0.29  ...       0.32     12.8        7\n",
              "2            6.4             0.220         0.32  ...       0.55     10.9        8\n",
              "3            5.0             0.350         0.25  ...       0.40     11.3        6\n",
              "4            7.4             0.300         0.30  ...       0.45     10.3        6\n",
              "\n",
              "[5 rows x 12 columns]"
            ]
          },
          "metadata": {
            "tags": []
          },
          "execution_count": 8
        }
      ]
    },
    {
      "cell_type": "code",
      "metadata": {
        "id": "-MVqvbEJmFrl"
      },
      "source": [
        "data['quality'] = data['quality'].map({3 : 'bad', 4 :'bad', 5: 'bad',\n",
        "                                      6: 'Normal', 7: 'good', 8: 'good',9: 'good'})"
      ],
      "execution_count": 9,
      "outputs": []
    },
    {
      "cell_type": "code",
      "metadata": {
        "id": "w_PNMW7tmSt_",
        "colab": {
          "base_uri": "https://localhost:8080/"
        },
        "outputId": "cf9c9b56-2bef-426f-9bb5-b816e27827fd"
      },
      "source": [
        "data['quality'].value_counts()"
      ],
      "execution_count": 10,
      "outputs": [
        {
          "output_type": "execute_result",
          "data": {
            "text/plain": [
              "Normal    1647\n",
              "bad       1208\n",
              "good       818\n",
              "Name: quality, dtype: int64"
            ]
          },
          "metadata": {
            "tags": []
          },
          "execution_count": 10
        }
      ]
    },
    {
      "cell_type": "code",
      "metadata": {
        "id": "MvQve5UvmVYg"
      },
      "source": [
        "from sklearn.preprocessing import LabelEncoder\n",
        "\n",
        "le = LabelEncoder()\n",
        "\n",
        "data['quality'] = le.fit_transform(data['quality'])\n",
        "\n"
      ],
      "execution_count": 11,
      "outputs": []
    },
    {
      "cell_type": "code",
      "metadata": {
        "colab": {
          "base_uri": "https://localhost:8080/"
        },
        "id": "5EfuP4hWIqhu",
        "outputId": "4a8f3272-5053-4704-d00e-414fd30cf517"
      },
      "source": [
        "le.classes_"
      ],
      "execution_count": 12,
      "outputs": [
        {
          "output_type": "execute_result",
          "data": {
            "text/plain": [
              "array(['Normal', 'bad', 'good'], dtype=object)"
            ]
          },
          "metadata": {
            "tags": []
          },
          "execution_count": 12
        }
      ]
    },
    {
      "cell_type": "code",
      "metadata": {
        "colab": {
          "base_uri": "https://localhost:8080/",
          "height": 224
        },
        "id": "A3KoPb3dKA7Q",
        "outputId": "9372b033-e04f-4a29-cc5d-f6985032d3f0"
      },
      "source": [
        "data.head()"
      ],
      "execution_count": null,
      "outputs": [
        {
          "output_type": "execute_result",
          "data": {
            "text/html": [
              "<div>\n",
              "<style scoped>\n",
              "    .dataframe tbody tr th:only-of-type {\n",
              "        vertical-align: middle;\n",
              "    }\n",
              "\n",
              "    .dataframe tbody tr th {\n",
              "        vertical-align: top;\n",
              "    }\n",
              "\n",
              "    .dataframe thead th {\n",
              "        text-align: right;\n",
              "    }\n",
              "</style>\n",
              "<table border=\"1\" class=\"dataframe\">\n",
              "  <thead>\n",
              "    <tr style=\"text-align: right;\">\n",
              "      <th></th>\n",
              "      <th>fixed.acidity</th>\n",
              "      <th>volatile.acidity</th>\n",
              "      <th>citric.acid</th>\n",
              "      <th>residual.sugar</th>\n",
              "      <th>chlorides</th>\n",
              "      <th>free.sulfur.dioxide</th>\n",
              "      <th>total.sulfur.dioxide</th>\n",
              "      <th>density</th>\n",
              "      <th>pH</th>\n",
              "      <th>sulphates</th>\n",
              "      <th>alcohol</th>\n",
              "      <th>quality</th>\n",
              "    </tr>\n",
              "  </thead>\n",
              "  <tbody>\n",
              "    <tr>\n",
              "      <th>0</th>\n",
              "      <td>9.0</td>\n",
              "      <td>0.245</td>\n",
              "      <td>0.38</td>\n",
              "      <td>5.9</td>\n",
              "      <td>0.045</td>\n",
              "      <td>52.0</td>\n",
              "      <td>159.0</td>\n",
              "      <td>0.99500</td>\n",
              "      <td>2.93</td>\n",
              "      <td>0.35</td>\n",
              "      <td>10.2</td>\n",
              "      <td>0</td>\n",
              "    </tr>\n",
              "    <tr>\n",
              "      <th>1</th>\n",
              "      <td>8.2</td>\n",
              "      <td>0.420</td>\n",
              "      <td>0.29</td>\n",
              "      <td>4.1</td>\n",
              "      <td>0.030</td>\n",
              "      <td>31.0</td>\n",
              "      <td>100.0</td>\n",
              "      <td>0.99110</td>\n",
              "      <td>3.00</td>\n",
              "      <td>0.32</td>\n",
              "      <td>12.8</td>\n",
              "      <td>2</td>\n",
              "    </tr>\n",
              "    <tr>\n",
              "      <th>2</th>\n",
              "      <td>6.4</td>\n",
              "      <td>0.220</td>\n",
              "      <td>0.32</td>\n",
              "      <td>7.2</td>\n",
              "      <td>0.028</td>\n",
              "      <td>15.0</td>\n",
              "      <td>83.0</td>\n",
              "      <td>0.99300</td>\n",
              "      <td>3.13</td>\n",
              "      <td>0.55</td>\n",
              "      <td>10.9</td>\n",
              "      <td>2</td>\n",
              "    </tr>\n",
              "    <tr>\n",
              "      <th>3</th>\n",
              "      <td>5.0</td>\n",
              "      <td>0.350</td>\n",
              "      <td>0.25</td>\n",
              "      <td>7.8</td>\n",
              "      <td>0.031</td>\n",
              "      <td>24.0</td>\n",
              "      <td>116.0</td>\n",
              "      <td>0.99241</td>\n",
              "      <td>3.39</td>\n",
              "      <td>0.40</td>\n",
              "      <td>11.3</td>\n",
              "      <td>0</td>\n",
              "    </tr>\n",
              "    <tr>\n",
              "      <th>4</th>\n",
              "      <td>7.4</td>\n",
              "      <td>0.300</td>\n",
              "      <td>0.30</td>\n",
              "      <td>5.2</td>\n",
              "      <td>0.053</td>\n",
              "      <td>45.0</td>\n",
              "      <td>163.0</td>\n",
              "      <td>0.99410</td>\n",
              "      <td>3.12</td>\n",
              "      <td>0.45</td>\n",
              "      <td>10.3</td>\n",
              "      <td>0</td>\n",
              "    </tr>\n",
              "  </tbody>\n",
              "</table>\n",
              "</div>"
            ],
            "text/plain": [
              "   fixed.acidity  volatile.acidity  citric.acid  ...  sulphates  alcohol  quality\n",
              "0            9.0             0.245         0.38  ...       0.35     10.2        0\n",
              "1            8.2             0.420         0.29  ...       0.32     12.8        2\n",
              "2            6.4             0.220         0.32  ...       0.55     10.9        2\n",
              "3            5.0             0.350         0.25  ...       0.40     11.3        0\n",
              "4            7.4             0.300         0.30  ...       0.45     10.3        0\n",
              "\n",
              "[5 rows x 12 columns]"
            ]
          },
          "metadata": {
            "tags": []
          },
          "execution_count": 11
        }
      ]
    },
    {
      "cell_type": "code",
      "metadata": {
        "id": "obuA-EqPI_wQ"
      },
      "source": [
        "x=data.drop(['quality'],axis=1)\n",
        "y =data['quality']"
      ],
      "execution_count": 13,
      "outputs": []
    },
    {
      "cell_type": "code",
      "metadata": {
        "id": "DWJUT9x-nJjC",
        "colab": {
          "base_uri": "https://localhost:8080/"
        },
        "outputId": "b0496e15-fdf0-422f-b51a-57c390b48d38"
      },
      "source": [
        "x = data.iloc[:,:11]\n",
        "y = data.iloc[:,11]\n",
        "\n",
        "# determining the shape of x and y.\n",
        "print(x.shape)\n",
        "print(y.shape)"
      ],
      "execution_count": null,
      "outputs": [
        {
          "output_type": "stream",
          "text": [
            "(3673, 11)\n",
            "(3673,)\n"
          ],
          "name": "stdout"
        }
      ]
    },
    {
      "cell_type": "code",
      "metadata": {
        "id": "UKeJ9n9-9wUF",
        "colab": {
          "base_uri": "https://localhost:8080/"
        },
        "outputId": "68977baa-a9ac-4084-8088-ab336375cad1"
      },
      "source": [
        "x.shape,y.shape"
      ],
      "execution_count": null,
      "outputs": [
        {
          "output_type": "execute_result",
          "data": {
            "text/plain": [
              "((3673, 11), (3673,))"
            ]
          },
          "metadata": {
            "tags": []
          },
          "execution_count": 13
        }
      ]
    },
    {
      "cell_type": "code",
      "metadata": {
        "id": "dFLvQ154mu5b",
        "colab": {
          "base_uri": "https://localhost:8080/"
        },
        "outputId": "80f45b47-7f9c-409b-808a-7c459a00a3bc"
      },
      "source": [
        "from sklearn.model_selection import train_test_split\n",
        "\n",
        "x_train, x_test, y_train, y_test = train_test_split(x, y, test_size = 0.25, random_state = 44)\n",
        "\n",
        "# determining the shapes of training and testing sets\n",
        "print(x_train.shape)\n",
        "print(y_train.shape)\n",
        "print(x_test.shape)\n",
        "print(y_test.shape)"
      ],
      "execution_count": 14,
      "outputs": [
        {
          "output_type": "stream",
          "text": [
            "(2754, 11)\n",
            "(2754,)\n",
            "(919, 11)\n",
            "(919,)\n"
          ],
          "name": "stdout"
        }
      ]
    },
    {
      "cell_type": "code",
      "metadata": {
        "id": "Sm1xiXMzmzJ_"
      },
      "source": [
        "from sklearn.ensemble import RandomForestClassifier\n",
        "\n",
        "\n",
        "model = RandomForestClassifier(n_estimators = 200)\n",
        "\n",
        "\n",
        "model.fit(x_train, y_train)\n",
        "\n",
        "\n",
        "y_pred = model.predict(x_test)"
      ],
      "execution_count": 15,
      "outputs": []
    },
    {
      "cell_type": "markdown",
      "metadata": {
        "id": "dg7hY_fhnt3K"
      },
      "source": [
        "# i want output in below format\n",
        "     id     taste\n",
        "      1      bad\n",
        "      2      good\n",
        "      3       bad\n",
        "      ..      ...\n",
        "      ...       ...\n",
        "      ...       ..."
      ]
    },
    {
      "cell_type": "code",
      "metadata": {
        "id": "WYR788bPqRxz"
      },
      "source": [
        "preds=le.inverse_transform(y_pred)\n",
        "\n",
        "datatocsv=pd.DataFrame({'id':range(1,len(preds)+1),'taste':preds})\n",
        "\n",
        "datatocsv.to_csv('prediction.csv',index=False,sep=',')"
      ],
      "execution_count": 16,
      "outputs": []
    },
    {
      "cell_type": "code",
      "metadata": {
        "id": "wFwhp5cBsgwz"
      },
      "source": [
        "export_csv = datatocsv.to_csv (r'pandaresult.csv', index = None, header=True,sep=',')"
      ],
      "execution_count": null,
      "outputs": []
    },
    {
      "cell_type": "code",
      "metadata": {
        "colab": {
          "base_uri": "https://localhost:8080/"
        },
        "id": "-sY-PReZsufX",
        "outputId": "e6278772-30a4-4fef-e586-ccc154501b6a"
      },
      "source": [
        "print(datatocsv)"
      ],
      "execution_count": null,
      "outputs": [
        {
          "output_type": "stream",
          "text": [
            "      id   taste\n",
            "0      1     bad\n",
            "1      2  Normal\n",
            "2      3     bad\n",
            "3      4    good\n",
            "4      5  Normal\n",
            "..   ...     ...\n",
            "914  915  Normal\n",
            "915  916     bad\n",
            "916  917    good\n",
            "917  918  Normal\n",
            "918  919     bad\n",
            "\n",
            "[919 rows x 2 columns]\n"
          ],
          "name": "stdout"
        }
      ]
    },
    {
      "cell_type": "code",
      "metadata": {
        "id": "Y3Sd8g0pstE5",
        "colab": {
          "base_uri": "https://localhost:8080/"
        },
        "outputId": "e060d254-d854-46c3-d1e0-33f5bd110988"
      },
      "source": [
        "df=pd.read_csv('/content/prediction.csv')\r\n",
        "print(df)"
      ],
      "execution_count": 17,
      "outputs": [
        {
          "output_type": "stream",
          "text": [
            "      id   taste\n",
            "0      1     bad\n",
            "1      2  Normal\n",
            "2      3     bad\n",
            "3      4    good\n",
            "4      5  Normal\n",
            "..   ...     ...\n",
            "914  915  Normal\n",
            "915  916     bad\n",
            "916  917    good\n",
            "917  918  Normal\n",
            "918  919     bad\n",
            "\n",
            "[919 rows x 2 columns]\n"
          ],
          "name": "stdout"
        }
      ]
    },
    {
      "cell_type": "code",
      "metadata": {
        "id": "YPVjjVyFzUWL"
      },
      "source": [
        "#for i ,quality in enumerate(le.inverse_transform(model.predict(x_test))):\r\n",
        "  #print(\"{} {}\".format(i+1,quality))"
      ],
      "execution_count": null,
      "outputs": []
    },
    {
      "cell_type": "code",
      "metadata": {
        "id": "ePKCHR_QtWGu",
        "colab": {
          "base_uri": "https://localhost:8080/",
          "height": 204
        },
        "outputId": "c74c4377-413b-41d5-b52a-943a7544f74b"
      },
      "source": [
        "df.head()"
      ],
      "execution_count": 18,
      "outputs": [
        {
          "output_type": "execute_result",
          "data": {
            "text/html": [
              "<div>\n",
              "<style scoped>\n",
              "    .dataframe tbody tr th:only-of-type {\n",
              "        vertical-align: middle;\n",
              "    }\n",
              "\n",
              "    .dataframe tbody tr th {\n",
              "        vertical-align: top;\n",
              "    }\n",
              "\n",
              "    .dataframe thead th {\n",
              "        text-align: right;\n",
              "    }\n",
              "</style>\n",
              "<table border=\"1\" class=\"dataframe\">\n",
              "  <thead>\n",
              "    <tr style=\"text-align: right;\">\n",
              "      <th></th>\n",
              "      <th>id</th>\n",
              "      <th>taste</th>\n",
              "    </tr>\n",
              "  </thead>\n",
              "  <tbody>\n",
              "    <tr>\n",
              "      <th>0</th>\n",
              "      <td>1</td>\n",
              "      <td>bad</td>\n",
              "    </tr>\n",
              "    <tr>\n",
              "      <th>1</th>\n",
              "      <td>2</td>\n",
              "      <td>Normal</td>\n",
              "    </tr>\n",
              "    <tr>\n",
              "      <th>2</th>\n",
              "      <td>3</td>\n",
              "      <td>bad</td>\n",
              "    </tr>\n",
              "    <tr>\n",
              "      <th>3</th>\n",
              "      <td>4</td>\n",
              "      <td>good</td>\n",
              "    </tr>\n",
              "    <tr>\n",
              "      <th>4</th>\n",
              "      <td>5</td>\n",
              "      <td>Normal</td>\n",
              "    </tr>\n",
              "  </tbody>\n",
              "</table>\n",
              "</div>"
            ],
            "text/plain": [
              "   id   taste\n",
              "0   1     bad\n",
              "1   2  Normal\n",
              "2   3     bad\n",
              "3   4    good\n",
              "4   5  Normal"
            ]
          },
          "metadata": {
            "tags": []
          },
          "execution_count": 18
        }
      ]
    },
    {
      "cell_type": "code",
      "metadata": {
        "id": "DmWOEqcmlxhl"
      },
      "source": [
        ""
      ],
      "execution_count": null,
      "outputs": []
    },
    {
      "cell_type": "code",
      "metadata": {
        "id": "kjrYfPWPKSin"
      },
      "source": [
        ""
      ],
      "execution_count": null,
      "outputs": []
    },
    {
      "cell_type": "code",
      "metadata": {
        "id": "YHyWlYfflt-x"
      },
      "source": [
        ""
      ],
      "execution_count": null,
      "outputs": []
    }
  ]
}